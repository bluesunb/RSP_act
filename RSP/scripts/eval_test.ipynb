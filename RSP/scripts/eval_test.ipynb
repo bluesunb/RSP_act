{
 "cells": [
  {
   "cell_type": "markdown",
   "metadata": {},
   "source": [
    "Connected to jax (Python 3.11.9)"
   ]
  },
  {
   "cell_type": "code",
   "execution_count": 1,
   "metadata": {},
   "outputs": [
    {
     "data": {
      "text/plain": [
       "'/home/user/PycharmProjects/SkillLearning/GoToRL/src/RSP/scripts'"
      ]
     },
     "execution_count": 1,
     "metadata": {},
     "output_type": "execute_result"
    }
   ],
   "source": [
    "pwd"
   ]
  },
  {
   "cell_type": "code",
   "execution_count": 2,
   "metadata": {},
   "outputs": [
    {
     "name": "stdout",
     "output_type": "stream",
     "text": [
      "/home/user/PycharmProjects/SkillLearning/GoToRL\n"
     ]
    },
    {
     "name": "stderr",
     "output_type": "stream",
     "text": [
      "/home/user/anaconda3/envs/jax/lib/python3.11/site-packages/IPython/core/magics/osm.py:417: UserWarning: This is now an optional IPython functionality, setting dhist requires you to install the `pickleshare` library.\n",
      "  self.shell.db['dhist'] = compress_dhist(dhist)[-100:]\n"
     ]
    }
   ],
   "source": [
    "cd ../../../"
   ]
  },
  {
   "cell_type": "code",
   "execution_count": 3,
   "metadata": {},
   "outputs": [
    {
     "data": {
      "text/plain": [
       "'/home/user/PycharmProjects/SkillLearning/GoToRL'"
      ]
     },
     "execution_count": 3,
     "metadata": {},
     "output_type": "execute_result"
    }
   ],
   "source": [
    "pwd"
   ]
  },
  {
   "cell_type": "code",
   "execution_count": 4,
   "metadata": {},
   "outputs": [
    {
     "name": "stderr",
     "output_type": "stream",
     "text": [
      "2024-11-30 02:54:00.871588: E external/local_xla/xla/stream_executor/cuda/cuda_fft.cc:485] Unable to register cuFFT factory: Attempting to register factory for plugin cuFFT when one has already been registered\n",
      "2024-11-30 02:54:00.893224: E external/local_xla/xla/stream_executor/cuda/cuda_dnn.cc:8454] Unable to register cuDNN factory: Attempting to register factory for plugin cuDNN when one has already been registered\n",
      "2024-11-30 02:54:00.903887: E external/local_xla/xla/stream_executor/cuda/cuda_blas.cc:1452] Unable to register cuBLAS factory: Attempting to register factory for plugin cuBLAS when one has already been registered\n",
      "2024-11-30 02:54:01.738034: W tensorflow/compiler/tf2tensorrt/utils/py_utils.cc:38] TF-TRT Warning: Could not find TensorRT\n"
     ]
    }
   ],
   "source": [
    "from src.common.context import load_model\n",
    "from src.RSP.rsp_act_seq import RSP, Decoder\n",
    "import jax\n",
    "import jax.numpy as jp"
   ]
  },
  {
   "cell_type": "code",
   "execution_count": 5,
   "metadata": {},
   "outputs": [],
   "source": [
    "from src.common.context import load_model, prepare_ckpt\n",
    "from src.RSP.rsp_act_seq import RSP, Decoder, Encoder, RNG_KEYS\n",
    "import jax\n",
    "import jax.numpy as jp"
   ]
  },
  {
   "cell_type": "code",
   "execution_count": 6,
   "metadata": {},
   "outputs": [],
   "source": [
    "from pathlib import Path\n",
    "# save_dir = \"/home/user/PycharmProjects/SkillLearning/GoToRL/output_dir/rsp_vit_tiny_patch16/kitchen-act/2024-11-29_12-35-27/ckpt\"\n",
    "save_dir = \"/home/user/PycharmProjects/SkillLearning/GoToRL/output_dir/rsp_vit_tiny_patch16/kitchen-seq/2024-11-29_21-59-29/ckpt\"\n",
    "save_dir = Path(save_dir)\n",
    "\n",
    "tmp_ckpt = prepare_ckpt(save_dir, monitor=\"loss\", best_mode=\"min\", keep_n=5)"
   ]
  },
  {
   "cell_type": "code",
   "execution_count": 7,
   "metadata": {},
   "outputs": [
    {
     "name": "stderr",
     "output_type": "stream",
     "text": [
      "WARNING:absl:`StandardCheckpointHandler` expects a target tree to be provided for restore. Not doing so is generally UNSAFE unless you know the present topology to be the same one as the checkpoint was saved under.\n"
     ]
    },
    {
     "name": "stdout",
     "output_type": "stream",
     "text": [
      "40000\n"
     ]
    },
    {
     "name": "stderr",
     "output_type": "stream",
     "text": [
      "WARNING:absl:`StandardCheckpointHandler` expects a target tree to be provided for restore. Not doing so is generally UNSAFE unless you know the present topology to be the same one as the checkpoint was saved under.\n"
     ]
    }
   ],
   "source": [
    "print(tmp_ckpt.best_step())\n",
    "variables = load_model(tmp_ckpt, epoch_idx=-1)"
   ]
  },
  {
   "cell_type": "code",
   "execution_count": 8,
   "metadata": {},
   "outputs": [
    {
     "name": "stdout",
     "output_type": "stream",
     "text": [
      "{'decoder': {'dec_act_pred': {'bias': (36,), 'kernel': (512, 36)},\n",
      "             'dec_blocks_0': {'Attention_0': {'Dense_0': {'bias': (1536,), 'kernel': (512, 1536)},\n",
      "                                              'Dense_1': {'bias': (512,), 'kernel': (512, 512)}},\n",
      "                              'CrossAttention_0': {'Dense_0': {'bias': (1024,), 'kernel': (512, 1024)},\n",
      "                                                   'Dense_1': {'bias': (512,), 'kernel': (512, 512)},\n",
      "                                                   'Dense_2': {'bias': (512,), 'kernel': (512, 512)}},\n",
      "                              'LayerNorm_0': {'bias': (512,), 'scale': (512,)},\n",
      "                              'LayerNorm_1': {'bias': (512,), 'scale': (512,)},\n",
      "                              'LayerNorm_2': {'bias': (512,), 'scale': (512,)},\n",
      "                              'LayerNorm_3': {'bias': (512,), 'scale': (512,)},\n",
      "                              'MLP_0': {'Dense_0': {'bias': (2048,), 'kernel': (512, 2048)},\n",
      "                                        'Dense_1': {'bias': (512,), 'kernel': (2048, 512)}}},\n",
      "             'dec_blocks_1': {'Attention_0': {'Dense_0': {'bias': (1536,), 'kernel': (512, 1536)},\n",
      "                                              'Dense_1': {'bias': (512,), 'kernel': (512, 512)}},\n",
      "                              'CrossAttention_0': {'Dense_0': {'bias': (1024,), 'kernel': (512, 1024)},\n",
      "                                                   'Dense_1': {'bias': (512,), 'kernel': (512, 512)},\n",
      "                                                   'Dense_2': {'bias': (512,), 'kernel': (512, 512)}},\n",
      "                              'LayerNorm_0': {'bias': (512,), 'scale': (512,)},\n",
      "                              'LayerNorm_1': {'bias': (512,), 'scale': (512,)},\n",
      "                              'LayerNorm_2': {'bias': (512,), 'scale': (512,)},\n",
      "                              'LayerNorm_3': {'bias': (512,), 'scale': (512,)},\n",
      "                              'MLP_0': {'Dense_0': {'bias': (2048,), 'kernel': (512, 2048)},\n",
      "                                        'Dense_1': {'bias': (512,), 'kernel': (2048, 512)}}},\n",
      "             'dec_blocks_2': {'Attention_0': {'Dense_0': {'bias': (1536,), 'kernel': (512, 1536)},\n",
      "                                              'Dense_1': {'bias': (512,), 'kernel': (512, 512)}},\n",
      "                              'CrossAttention_0': {'Dense_0': {'bias': (1024,), 'kernel': (512, 1024)},\n",
      "                                                   'Dense_1': {'bias': (512,), 'kernel': (512, 512)},\n",
      "                                                   'Dense_2': {'bias': (512,), 'kernel': (512, 512)}},\n",
      "                              'LayerNorm_0': {'bias': (512,), 'scale': (512,)},\n",
      "                              'LayerNorm_1': {'bias': (512,), 'scale': (512,)},\n",
      "                              'LayerNorm_2': {'bias': (512,), 'scale': (512,)},\n",
      "                              'LayerNorm_3': {'bias': (512,), 'scale': (512,)},\n",
      "                              'MLP_0': {'Dense_0': {'bias': (2048,), 'kernel': (512, 2048)},\n",
      "                                        'Dense_1': {'bias': (512,), 'kernel': (2048, 512)}}},\n",
      "             'dec_blocks_3': {'Attention_0': {'Dense_0': {'bias': (1536,), 'kernel': (512, 1536)},\n",
      "                                              'Dense_1': {'bias': (512,), 'kernel': (512, 512)}},\n",
      "                              'CrossAttention_0': {'Dense_0': {'bias': (1024,), 'kernel': (512, 1024)},\n",
      "                                                   'Dense_1': {'bias': (512,), 'kernel': (512, 512)},\n",
      "                                                   'Dense_2': {'bias': (512,), 'kernel': (512, 512)}},\n",
      "                              'LayerNorm_0': {'bias': (512,), 'scale': (512,)},\n",
      "                              'LayerNorm_1': {'bias': (512,), 'scale': (512,)},\n",
      "                              'LayerNorm_2': {'bias': (512,), 'scale': (512,)},\n",
      "                              'LayerNorm_3': {'bias': (512,), 'scale': (512,)},\n",
      "                              'MLP_0': {'Dense_0': {'bias': (2048,), 'kernel': (512, 2048)},\n",
      "                                        'Dense_1': {'bias': (512,), 'kernel': (2048, 512)}}},\n",
      "             'dec_embed_deter': {'bias': (512,), 'kernel': (384, 512)},\n",
      "             'dec_embed_mae': {'bias': (512,), 'kernel': (384, 512)},\n",
      "             'dec_embed_stoch': {'bias': (512,), 'kernel': (1024, 512)},\n",
      "             'dec_norm': {'bias': (512,), 'scale': (512,)},\n",
      "             'dec_pred': {'bias': (768,), 'kernel': (512, 768)},\n",
      "             'mask_token': (1, 1, 512)},\n",
      " 'encoder': {'ActionEncoder_0': {'Block_0': {'Attention_0': {'Dense_0': {'bias': (1152,), 'kernel': (384, 1152)},\n",
      "                                                             'Dense_1': {'bias': (384,), 'kernel': (384, 384)}},\n",
      "                                             'LayerNorm_0': {'bias': (384,), 'scale': (384,)},\n",
      "                                             'LayerNorm_1': {'bias': (384,), 'scale': (384,)},\n",
      "                                             'MLP_0': {'Dense_0': {'bias': (1536,), 'kernel': (384, 1536)},\n",
      "                                                       'Dense_1': {'bias': (384,), 'kernel': (1536, 384)}}},\n",
      "                                 'Block_1': {'Attention_0': {'Dense_0': {'bias': (1152,), 'kernel': (384, 1152)},\n",
      "                                                             'Dense_1': {'bias': (384,), 'kernel': (384, 384)}},\n",
      "                                             'LayerNorm_0': {'bias': (384,), 'scale': (384,)},\n",
      "                                             'LayerNorm_1': {'bias': (384,), 'scale': (384,)},\n",
      "                                             'MLP_0': {'Dense_0': {'bias': (1536,), 'kernel': (384, 1536)},\n",
      "                                                       'Dense_1': {'bias': (384,), 'kernel': (1536, 384)}}},\n",
      "                                 'Dense_0': {'bias': (384,), 'kernel': (9, 384)},\n",
      "                                 'LayerNorm_0': {'bias': (384,), 'scale': (384,)},\n",
      "                                 'act_enc_pos_emb': (1, 48, 384)},\n",
      "             'Block_0': {'Attention_0': {'Dense_0': {'bias': (1152,), 'kernel': (384, 1152)},\n",
      "                                         'Dense_1': {'bias': (384,), 'kernel': (384, 384)}},\n",
      "                         'LayerNorm_0': {'bias': (384,), 'scale': (384,)},\n",
      "                         'LayerNorm_1': {'bias': (384,), 'scale': (384,)},\n",
      "                         'MLP_0': {'Dense_0': {'bias': (1536,), 'kernel': (384, 1536)},\n",
      "                                   'Dense_1': {'bias': (384,), 'kernel': (1536, 384)}}},\n",
      "             'Block_1': {'Attention_0': {'Dense_0': {'bias': (1152,), 'kernel': (384, 1152)},\n",
      "                                         'Dense_1': {'bias': (384,), 'kernel': (384, 384)}},\n",
      "                         'LayerNorm_0': {'bias': (384,), 'scale': (384,)},\n",
      "                         'LayerNorm_1': {'bias': (384,), 'scale': (384,)},\n",
      "                         'MLP_0': {'Dense_0': {'bias': (1536,), 'kernel': (384, 1536)},\n",
      "                                   'Dense_1': {'bias': (384,), 'kernel': (1536, 384)}}},\n",
      "             'Block_2': {'Attention_0': {'Dense_0': {'bias': (1152,), 'kernel': (384, 1152)},\n",
      "                                         'Dense_1': {'bias': (384,), 'kernel': (384, 384)}},\n",
      "                         'LayerNorm_0': {'bias': (384,), 'scale': (384,)},\n",
      "                         'LayerNorm_1': {'bias': (384,), 'scale': (384,)},\n",
      "                         'MLP_0': {'Dense_0': {'bias': (1536,), 'kernel': (384, 1536)},\n",
      "                                   'Dense_1': {'bias': (384,), 'kernel': (1536, 384)}}},\n",
      "             'Block_3': {'Attention_0': {'Dense_0': {'bias': (1152,), 'kernel': (384, 1152)},\n",
      "                                         'Dense_1': {'bias': (384,), 'kernel': (384, 384)}},\n",
      "                         'LayerNorm_0': {'bias': (384,), 'scale': (384,)},\n",
      "                         'LayerNorm_1': {'bias': (384,), 'scale': (384,)},\n",
      "                         'MLP_0': {'Dense_0': {'bias': (1536,), 'kernel': (384, 1536)},\n",
      "                                   'Dense_1': {'bias': (384,), 'kernel': (1536, 384)}}},\n",
      "             'Block_4': {'Attention_0': {'Dense_0': {'bias': (1152,), 'kernel': (384, 1152)},\n",
      "                                         'Dense_1': {'bias': (384,), 'kernel': (384, 384)}},\n",
      "                         'LayerNorm_0': {'bias': (384,), 'scale': (384,)},\n",
      "                         'LayerNorm_1': {'bias': (384,), 'scale': (384,)},\n",
      "                         'MLP_0': {'Dense_0': {'bias': (1536,), 'kernel': (384, 1536)},\n",
      "                                   'Dense_1': {'bias': (384,), 'kernel': (1536, 384)}}},\n",
      "             'Block_5': {'Attention_0': {'Dense_0': {'bias': (1152,), 'kernel': (384, 1152)},\n",
      "                                         'Dense_1': {'bias': (384,), 'kernel': (384, 384)}},\n",
      "                         'LayerNorm_0': {'bias': (384,), 'scale': (384,)},\n",
      "                         'LayerNorm_1': {'bias': (384,), 'scale': (384,)},\n",
      "                         'MLP_0': {'Dense_0': {'bias': (1536,), 'kernel': (384, 1536)},\n",
      "                                   'Dense_1': {'bias': (384,), 'kernel': (1536, 384)}}},\n",
      "             'LayerNorm_0': {'bias': (384,), 'scale': (384,)},\n",
      "             'PatchEmbed_0': {'Conv_0': {'bias': (384,), 'kernel': (16, 16, 3, 384)}},\n",
      "             'cls_token': (1, 1, 384)},\n",
      " 'posterior_layer': {'layers_0': {'bias': (768,), 'kernel': (768, 768)},\n",
      "                     'layers_2': {'bias': (1024,), 'kernel': (768, 1024)}},\n",
      " 'prior_layer': {'layers_0': {'bias': (768,), 'kernel': (384, 768)},\n",
      "                 'layers_2': {'bias': (1024,), 'kernel': (768, 1024)}}}\n"
     ]
    }
   ],
   "source": [
    "from pprint import pp\n",
    "pprint = lambda x: pp(x, width=120)\n",
    "\n",
    "params = variables[\"params\"]\n",
    "pprint(jax.tree.map(jp.shape, params))"
   ]
  },
  {
   "cell_type": "code",
   "execution_count": 9,
   "metadata": {},
   "outputs": [],
   "source": [
    "from src.RSP.config import RSPConfig\n",
    "from src.RSP.rsp_act_seq import rsp_vit_tiny_patch16\n",
    "\n",
    "cfg = RSPConfig.load(save_dir.parent)\n",
    "rsp = rsp_vit_tiny_patch16(\n",
    "    img_size=cfg.input_size,\n",
    "    act_size=cfg.act_size,\n",
    "    seq_len=cfg.max_distance - 1,\n",
    "    stoch=cfg.stoch,\n",
    "    discrete=cfg.discrete,\n",
    "    mask_rate=cfg.mask_rate,\n",
    "    noise_scale=cfg.noise_scale,\n",
    ")"
   ]
  },
  {
   "cell_type": "code",
   "execution_count": 10,
   "metadata": {},
   "outputs": [
    {
     "name": "stdout",
     "output_type": "stream",
     "text": [
      "dict_keys(['extra_variables', 'metrics', 'params'])\n"
     ]
    }
   ],
   "source": [
    "print(variables.keys())\n",
    "variables.pop(\"metrics\")\n",
    "variables= {\"params\": variables.pop(\"params\"), **variables.pop(\"extra_variables\")}"
   ]
  },
  {
   "cell_type": "code",
   "execution_count": 11,
   "metadata": {},
   "outputs": [
    {
     "data": {
      "text/plain": [
       "dict_keys(['params', 'pos_emb'])"
      ]
     },
     "execution_count": 11,
     "metadata": {},
     "output_type": "execute_result"
    }
   ],
   "source": [
    "variables.keys()"
   ]
  },
  {
   "cell_type": "code",
   "execution_count": 12,
   "metadata": {},
   "outputs": [
    {
     "name": "stderr",
     "output_type": "stream",
     "text": [
      "/home/user/anaconda3/envs/jax/lib/python3.11/site-packages/Cython/Distutils/old_build_ext.py:15: DeprecationWarning: dep_util is Deprecated. Use functions from setuptools instead.\n",
      "  from distutils.dep_util import newer, newer_group\n",
      "<frozen importlib._bootstrap>:283: DeprecationWarning: the load_module() method is deprecated and slated for removal in Python 3.12; use exec_module() instead\n",
      "Warning: Flow failed to import. Set the environment variable D4RL_SUPPRESS_IMPORT_ERROR=1 to suppress this message.\n",
      "No module named 'flow'\n",
      "Warning: CARLA failed to import. Set the environment variable D4RL_SUPPRESS_IMPORT_ERROR=1 to suppress this message.\n",
      "No module named 'carla'\n",
      "pybullet build time: Nov 28 2023 23:48:36\n",
      "/home/user/anaconda3/envs/jax/lib/python3.11/site-packages/pybullet_envs/env_bases.py:8: DeprecationWarning: pkg_resources is deprecated as an API. See https://setuptools.pypa.io/en/latest/pkg_resources.html\n",
      "  from pkg_resources import parse_version\n",
      "/home/user/anaconda3/envs/jax/lib/python3.11/site-packages/pkg_resources/__init__.py:3144: DeprecationWarning: Deprecated call to `pkg_resources.declare_namespace('google')`.\n",
      "Implementing implicit namespace packages (as specified in PEP 420) is preferred to `pkg_resources.declare_namespace`. See https://setuptools.pypa.io/en/latest/references/keywords.html#keyword-namespace-packages\n",
      "  declare_namespace(pkg)\n",
      "/home/user/anaconda3/envs/jax/lib/python3.11/site-packages/pkg_resources/__init__.py:3144: DeprecationWarning: Deprecated call to `pkg_resources.declare_namespace('sphinxcontrib')`.\n",
      "Implementing implicit namespace packages (as specified in PEP 420) is preferred to `pkg_resources.declare_namespace`. See https://setuptools.pypa.io/en/latest/references/keywords.html#keyword-namespace-packages\n",
      "  declare_namespace(pkg)\n",
      "WARNING:py.warnings:/home/user/anaconda3/envs/jax/lib/python3.11/site-packages/moviepy/video/fx/painting.py:7: DeprecationWarning: Please import `sobel` from the `scipy.ndimage` namespace; the `scipy.ndimage.filters` namespace is deprecated and will be removed in SciPy 2.0.0.\n",
      "  from scipy.ndimage.filters import sobel\n",
      "\n",
      "WARNING:py.warnings:/home/user/GitRepos/d4rl/d4rl/kitchen/adept_envs/franka/robot/franka_robot.py:92: DeprecationWarning: Conversion of an array with ndim > 0 to a scalar is deprecated, and will error in future. Ensure you extract a single element from your array before performing this operation. (Deprecated NumPy 1.25.)\n",
      "  self.robot_mode[i] = read_config_from_node(root, \"qpos\"+str(i), \"mode\", int)\n",
      "\n"
     ]
    },
    {
     "name": "stdout",
     "output_type": "stream",
     "text": [
      "Reading configurations for Franka\n",
      "\u001b[40m\u001b[97mInitializing Franka sim\u001b[0m\n"
     ]
    },
    {
     "name": "stderr",
     "output_type": "stream",
     "text": [
      "WARNING:py.warnings:/home/user/anaconda3/envs/jax/lib/python3.11/site-packages/gym/spaces/box.py:84: UserWarning: \u001b[33mWARN: Box bound precision lowered by casting to float32\u001b[0m\n",
      "  logger.warn(f\"Box bound precision lowered by casting to {self.dtype}\")\n",
      "\n"
     ]
    }
   ],
   "source": [
    "import d4rl\n",
    "import gym\n",
    "from src.RSP.evaluation import kitchen_render\n",
    "import matplotlib.pyplot as plt\n",
    "\n",
    "env_name = \"kitchen-mixed-v0\"\n",
    "env = gym.make(env_name)"
   ]
  },
  {
   "cell_type": "code",
   "execution_count": 13,
   "metadata": {},
   "outputs": [
    {
     "data": {
      "text/plain": [
       "<matplotlib.image.AxesImage at 0x76358d9e8b10>"
      ]
     },
     "execution_count": 13,
     "metadata": {},
     "output_type": "execute_result"
    },
    {
     "data": {
      "image/png": "[encoded data removed]",
      "text/plain": [
       "<Figure size 640x480 with 1 Axes>"
      ]
     },
     "metadata": {},
     "output_type": "display_data"
    }
   ],
   "source": [
    "plt.imshow(kitchen_render(env, wh=64))"
   ]
  },
  {
   "cell_type": "code",
   "execution_count": null,
   "metadata": {},
   "outputs": [
    {
     "name": "stderr",
     "output_type": "stream",
     "text": [
      "100%|██████████| 280/280 [01:23<00:00,  4.48it/s]"
     ]
    }
   ],
   "source": [
    "from collections import defaultdict\n",
    "from functools import partial\n",
    "from src.common.context import make_rngs\n",
    "from tqdm import tqdm\n",
    "\n",
    "done = False\n",
    "step = 0\n",
    "record = defaultdict(list)\n",
    "\n",
    "obs = env.reset()\n",
    "obs_img = kitchen_render(env, wh=64)\n",
    "rng = jax.random.PRNGKey(0)\n",
    "\n",
    "pbar = tqdm(total=env.spec.max_episode_steps)\n",
    "policy_fn = jax.jit(partial(rsp.apply, variables, method=\"predict\"))\n",
    "\n",
    "while not done:\n",
    "    rng, rngs = make_rngs(rng, RNG_KEYS)\n",
    "    # imgs = jax.jit(partial(rsp.apply, variables, modal=\"img\", method=\"predict\"))(obs_img[None], rngs=rngs)\n",
    "    # actions = jax.jit(partial(rsp.apply, variables, modal=\"act\", method=\"predict\"))(obs_img[None], rngs=rngs)\n",
    "    # imgs, actions = jax.jit(partial(rsp.apply, variables, method=\"predict\"))(obs_img[None], rngs=rngs)\n",
    "    actions_records = jp.zeros((cfg.max_distance, cfg.act_size))\n",
    "    imgs, actions = policy_fn(obs_img[None], actions_records, rngs=rngs)\n",
    "    actions_records.at[step] = actions[step]\n",
    "    \n",
    "    record[\"src_img\"].append(obs_img)\n",
    "    record[\"tgt_img\"].append(imgs)\n",
    "    for action in actions[0, :cfg.min_distance]:\n",
    "        obs, rew, done, info = env.step(action)\n",
    "        record[\"actions\"].append(action)\n",
    "        record[\"rewards\"].append(rew)\n",
    "        record[\"dones\"].append(done)\n",
    "\n",
    "        if step % 3 == 0:\n",
    "            record[\"frames\"].append(kitchen_render(env, wh=64).transpose(2, 0, 1))\n",
    "        \n",
    "        step += 1\n",
    "        pbar.update(1)\n",
    "        if done:\n",
    "            break\n",
    "        \n",
    "    obs_img = kitchen_render(env, wh=64)"
   ]
  },
  {
   "cell_type": "code",
   "execution_count": 15,
   "metadata": {},
   "outputs": [
    {
     "data": {
      "text/plain": [
       "dict_keys(['src_img', 'tgt_img', 'actions', 'rewards', 'dones', 'frames'])"
      ]
     },
     "execution_count": 15,
     "metadata": {},
     "output_type": "execute_result"
    }
   ],
   "source": [
    "record.keys()"
   ]
  },
  {
   "cell_type": "code",
   "execution_count": 16,
   "metadata": {},
   "outputs": [
    {
     "data": {
      "text/plain": [
       "{'actions': (280, 9),\n",
       " 'dones': (280,),\n",
       " 'frames': (94, 3, 64, 64),\n",
       " 'rewards': (280,),\n",
       " 'src_img': (35, 64, 64, 3),\n",
       " 'tgt_img': (35, 1, 64, 64, 3)}"
      ]
     },
     "execution_count": 16,
     "metadata": {},
     "output_type": "execute_result"
    }
   ],
   "source": [
    "import numpy as np\n",
    "\n",
    "record = {k: np.stack(v) for k, v in record.items()}\n",
    "jax.tree.map(lambda x: x.shape, record)"
   ]
  },
  {
   "cell_type": "code",
   "execution_count": 17,
   "metadata": {},
   "outputs": [
    {
     "data": {
      "text/plain": [
       "<matplotlib.collections.QuadMesh at 0x7635867b97d0>"
      ]
     },
     "execution_count": 17,
     "metadata": {},
     "output_type": "execute_result"
    },
    {
     "data": {
      "image/png": "[encoded data removed]",
      "text/plain": [
       "<Figure size 640x480 with 1 Axes>"
      ]
     },
     "metadata": {},
     "output_type": "display_data"
    }
   ],
   "source": [
    "plt.pcolormesh(record[\"actions\"])"
   ]
  },
  {
   "cell_type": "code",
   "execution_count": 22,
   "metadata": {},
   "outputs": [
    {
     "name": "stderr",
     "output_type": "stream",
     "text": [
      "100%|██████████| 280/280 [06:53<00:00,  4.48it/s]"
     ]
    },
    {
     "name": "stdout",
     "output_type": "stream",
     "text": [
      "(35, 64, 64, 3) (35, 64, 64, 3)\n",
      "MoviePy - Building file kitchen_seq.gif with imageio.\n"
     ]
    },
    {
     "name": "stderr",
     "output_type": "stream",
     "text": []
    }
   ],
   "source": [
    "from moviepy.editor import ImageSequenceClip\n",
    "from src.RSP.datasets import img_inverse_normalize\n",
    "\n",
    "src_imgs = record[\"src_img\"]\n",
    "tgt_imgs = img_inverse_normalize(record[\"tgt_img\"].squeeze())\n",
    "print(src_imgs.shape, tgt_imgs.shape)\n",
    "\n",
    "imgs = np.concatenate([src_imgs, tgt_imgs], axis=2)\n",
    "clip = ImageSequenceClip(list(imgs), fps=10)\n",
    "clip.write_gif(\"kitchen_seq.gif\", fps=10)"
   ]
  },
  {
   "cell_type": "code",
   "execution_count": null,
   "metadata": {},
   "outputs": [
    {
     "data": {
      "text/plain": [
       "array([[[[ 75,  82,  99],\n",
       "         [ 75,  82,  99],\n",
       "         [ 75,  82,  99],\n",
       "         ...,\n",
       "         [ 75,  82, 100],\n",
       "         [ 75,  82, 100],\n",
       "         [ 75,  82, 100]],\n",
       "\n",
       "        [[ 75,  82,  99],\n",
       "         [ 75,  82,  99],\n",
       "         [ 75,  82,  99],\n",
       "         ...,\n",
       "         [ 75,  82, 100],\n",
       "         [ 75,  82, 100],\n",
       "         [ 75,  82, 100]],\n",
       "\n",
       "        [[ 75,  82,  99],\n",
       "         [ 75,  82,  99],\n",
       "         [ 75,  82,  99],\n",
       "         ...,\n",
       "         [ 75,  82, 100],\n",
       "         [ 75,  82, 100],\n",
       "         [ 75,  82, 100]],\n",
       "\n",
       "        ...,\n",
       "\n",
       "        [[214, 214, 214],\n",
       "         [208, 209, 209],\n",
       "         [209, 209, 209],\n",
       "         ...,\n",
       "         [ 75,  82,  97],\n",
       "         [ 75,  82,  97],\n",
       "         [ 75,  82,  97]],\n",
       "\n",
       "        [[213, 213, 213],\n",
       "         [209, 209, 209],\n",
       "         [209, 209, 209],\n",
       "         ...,\n",
       "         [ 92,  97, 108],\n",
       "         [ 92,  97, 109],\n",
       "         [ 92,  98, 109]],\n",
       "\n",
       "        [[209, 211, 210],\n",
       "         [208, 209, 209],\n",
       "         [209, 209, 209],\n",
       "         ...,\n",
       "         [141, 141, 142],\n",
       "         [139, 139, 140],\n",
       "         [139, 139, 139]]],\n",
       "\n",
       "\n",
       "       [[[ 75,  82,  99],\n",
       "         [ 75,  82,  99],\n",
       "         [ 75,  82,  99],\n",
       "         ...,\n",
       "         [ 75,  82, 100],\n",
       "         [ 75,  82, 100],\n",
       "         [ 75,  82, 100]],\n",
       "\n",
       "        [[ 75,  82,  99],\n",
       "         [ 75,  82,  99],\n",
       "         [ 75,  82,  99],\n",
       "         ...,\n",
       "         [ 75,  82, 100],\n",
       "         [ 75,  82, 100],\n",
       "         [ 75,  82, 100]],\n",
       "\n",
       "        [[ 75,  82,  99],\n",
       "         [ 75,  82,  99],\n",
       "         [ 75,  82,  99],\n",
       "         ...,\n",
       "         [ 75,  82, 100],\n",
       "         [ 75,  82, 100],\n",
       "         [ 75,  82, 100]],\n",
       "\n",
       "        ...,\n",
       "\n",
       "        [[214, 214, 214],\n",
       "         [208, 209, 209],\n",
       "         [209, 209, 209],\n",
       "         ...,\n",
       "         [ 75,  82,  97],\n",
       "         [ 75,  82,  97],\n",
       "         [ 75,  82,  97]],\n",
       "\n",
       "        [[213, 213, 213],\n",
       "         [209, 209, 209],\n",
       "         [209, 209, 209],\n",
       "         ...,\n",
       "         [ 92,  97, 108],\n",
       "         [ 92,  97, 109],\n",
       "         [ 92,  98, 109]],\n",
       "\n",
       "        [[209, 211, 210],\n",
       "         [208, 209, 209],\n",
       "         [209, 209, 209],\n",
       "         ...,\n",
       "         [141, 141, 142],\n",
       "         [139, 139, 140],\n",
       "         [139, 139, 139]]],\n",
       "\n",
       "\n",
       "       [[[ 75,  82,  99],\n",
       "         [ 75,  82,  99],\n",
       "         [ 75,  82,  99],\n",
       "         ...,\n",
       "         [ 75,  82, 100],\n",
       "         [ 75,  82, 100],\n",
       "         [ 75,  82, 100]],\n",
       "\n",
       "        [[ 75,  82,  99],\n",
       "         [ 75,  82,  99],\n",
       "         [ 75,  82,  99],\n",
       "         ...,\n",
       "         [ 75,  82, 100],\n",
       "         [ 75,  82, 100],\n",
       "         [ 75,  82, 100]],\n",
       "\n",
       "        [[ 75,  82,  99],\n",
       "         [ 75,  82,  99],\n",
       "         [ 75,  82,  99],\n",
       "         ...,\n",
       "         [ 75,  82, 100],\n",
       "         [ 75,  82, 100],\n",
       "         [ 75,  82, 100]],\n",
       "\n",
       "        ...,\n",
       "\n",
       "        [[214, 214, 214],\n",
       "         [208, 209, 209],\n",
       "         [209, 209, 209],\n",
       "         ...,\n",
       "         [ 75,  82,  97],\n",
       "         [ 75,  82,  97],\n",
       "         [ 75,  82,  97]],\n",
       "\n",
       "        [[213, 213, 213],\n",
       "         [209, 209, 209],\n",
       "         [209, 209, 209],\n",
       "         ...,\n",
       "         [ 92,  97, 108],\n",
       "         [ 92,  97, 109],\n",
       "         [ 92,  98, 109]],\n",
       "\n",
       "        [[209, 211, 210],\n",
       "         [208, 209, 209],\n",
       "         [209, 209, 209],\n",
       "         ...,\n",
       "         [141, 141, 142],\n",
       "         [139, 139, 140],\n",
       "         [139, 139, 139]]],\n",
       "\n",
       "\n",
       "       ...,\n",
       "\n",
       "\n",
       "       [[[ 75,  82,  99],\n",
       "         [ 75,  82,  99],\n",
       "         [ 75,  82,  99],\n",
       "         ...,\n",
       "         [ 75,  82, 100],\n",
       "         [ 75,  82, 100],\n",
       "         [ 75,  82, 100]],\n",
       "\n",
       "        [[ 75,  82,  99],\n",
       "         [ 75,  82,  99],\n",
       "         [ 75,  82,  99],\n",
       "         ...,\n",
       "         [ 75,  82, 100],\n",
       "         [ 75,  82, 100],\n",
       "         [ 75,  82, 100]],\n",
       "\n",
       "        [[ 75,  82,  99],\n",
       "         [ 75,  82,  99],\n",
       "         [ 75,  82,  99],\n",
       "         ...,\n",
       "         [ 75,  82, 100],\n",
       "         [ 75,  82, 100],\n",
       "         [ 75,  82, 100]],\n",
       "\n",
       "        ...,\n",
       "\n",
       "        [[214, 214, 214],\n",
       "         [208, 209, 209],\n",
       "         [209, 209, 209],\n",
       "         ...,\n",
       "         [254, 255, 251],\n",
       "         [198, 207, 192],\n",
       "         [163, 171, 164]],\n",
       "\n",
       "        [[213, 213, 213],\n",
       "         [209, 209, 209],\n",
       "         [209, 209, 209],\n",
       "         ...,\n",
       "         [241, 248, 235],\n",
       "         [165, 173, 160],\n",
       "         [155, 163, 156]],\n",
       "\n",
       "        [[209, 211, 210],\n",
       "         [208, 209, 209],\n",
       "         [209, 209, 209],\n",
       "         ...,\n",
       "         [162, 168, 156],\n",
       "         [211, 219, 204],\n",
       "         [137, 138, 136]]],\n",
       "\n",
       "\n",
       "       [[[ 75,  82,  99],\n",
       "         [ 75,  82,  99],\n",
       "         [ 75,  82,  99],\n",
       "         ...,\n",
       "         [ 75,  82, 100],\n",
       "         [ 75,  82, 100],\n",
       "         [ 75,  82, 100]],\n",
       "\n",
       "        [[ 75,  82,  99],\n",
       "         [ 75,  82,  99],\n",
       "         [ 75,  82,  99],\n",
       "         ...,\n",
       "         [ 75,  82, 100],\n",
       "         [ 75,  82, 100],\n",
       "         [ 75,  82, 100]],\n",
       "\n",
       "        [[ 75,  82,  99],\n",
       "         [ 75,  82,  99],\n",
       "         [ 75,  82,  99],\n",
       "         ...,\n",
       "         [ 75,  82, 100],\n",
       "         [ 75,  82, 100],\n",
       "         [ 75,  82, 100]],\n",
       "\n",
       "        ...,\n",
       "\n",
       "        [[214, 214, 214],\n",
       "         [208, 209, 209],\n",
       "         [209, 209, 209],\n",
       "         ...,\n",
       "         [255, 255, 254],\n",
       "         [182, 190, 176],\n",
       "         [138, 145, 140]],\n",
       "\n",
       "        [[213, 213, 213],\n",
       "         [209, 209, 209],\n",
       "         [209, 209, 209],\n",
       "         ...,\n",
       "         [240, 246, 234],\n",
       "         [171, 178, 165],\n",
       "         [136, 141, 140]],\n",
       "\n",
       "        [[209, 211, 210],\n",
       "         [208, 209, 209],\n",
       "         [209, 209, 209],\n",
       "         ...,\n",
       "         [131, 136, 126],\n",
       "         [224, 231, 217],\n",
       "         [137, 138, 136]]],\n",
       "\n",
       "\n",
       "       [[[ 75,  82,  99],\n",
       "         [ 75,  82,  99],\n",
       "         [ 75,  82,  99],\n",
       "         ...,\n",
       "         [ 75,  82, 100],\n",
       "         [ 75,  82, 100],\n",
       "         [ 75,  82, 100]],\n",
       "\n",
       "        [[ 75,  82,  99],\n",
       "         [ 75,  82,  99],\n",
       "         [ 75,  82,  99],\n",
       "         ...,\n",
       "         [ 75,  82, 100],\n",
       "         [ 75,  82, 100],\n",
       "         [ 75,  82, 100]],\n",
       "\n",
       "        [[ 75,  82,  99],\n",
       "         [ 75,  82,  99],\n",
       "         [ 75,  82,  99],\n",
       "         ...,\n",
       "         [ 75,  82, 100],\n",
       "         [ 75,  82, 100],\n",
       "         [ 75,  82, 100]],\n",
       "\n",
       "        ...,\n",
       "\n",
       "        [[214, 214, 214],\n",
       "         [208, 209, 209],\n",
       "         [209, 209, 209],\n",
       "         ...,\n",
       "         [255, 255, 255],\n",
       "         [186, 194, 180],\n",
       "         [160, 168, 161]],\n",
       "\n",
       "        [[213, 213, 213],\n",
       "         [209, 209, 209],\n",
       "         [209, 209, 209],\n",
       "         ...,\n",
       "         [208, 216, 201],\n",
       "         [228, 237, 221],\n",
       "         [132, 139, 134]],\n",
       "\n",
       "        [[209, 211, 210],\n",
       "         [208, 209, 209],\n",
       "         [209, 209, 209],\n",
       "         ...,\n",
       "         [177, 184, 172],\n",
       "         [219, 229, 212],\n",
       "         [144, 146, 143]]]], dtype=uint8)"
      ]
     },
     "execution_count": 21,
     "metadata": {},
     "output_type": "execute_result"
    }
   ],
   "source": []
  },
  {
   "cell_type": "code",
   "execution_count": 25,
   "metadata": {},
   "outputs": [
    {
     "data": {
      "text/plain": [
       "<matplotlib.image.AxesImage at 0x763564d50b90>"
      ]
     },
     "execution_count": 25,
     "metadata": {},
     "output_type": "execute_result"
    },
    {
     "data": {
      "image/png": "[encoded data removed]",
      "text/plain": [
       "<Figure size 640x480 with 1 Axes>"
      ]
     },
     "metadata": {},
     "output_type": "display_data"
    }
   ],
   "source": [
    "plt.imshow(img_inverse_normalize(record[\"tgt_img\"][0].squeeze()))"
   ]
  },
  {
   "cell_type": "code",
   "execution_count": null,
   "metadata": {},
   "outputs": [],
   "source": []
  }
 ],
 "metadata": {
  "kernelspec": {
   "display_name": "jax",
   "language": "python",
   "name": "python3"
  },
  "language_info": {
   "codemirror_mode": {
    "name": "ipython",
    "version": 3
   },
   "file_extension": ".py",
   "mimetype": "text/x-python",
   "name": "python",
   "nbconvert_exporter": "python",
   "pygments_lexer": "ipython3",
   "version": "3.11.9"
  }
 },
 "nbformat": 4,
 "nbformat_minor": 2
}
